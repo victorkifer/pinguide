{
 "cells": [
  {
   "cell_type": "code",
   "execution_count": 1,
   "metadata": {
    "collapsed": true
   },
   "outputs": [],
   "source": [
    "from input_data import *\n",
    "\n",
    "import csv\n",
    "from random import random"
   ]
  },
  {
   "cell_type": "code",
   "execution_count": 2,
   "metadata": {
    "collapsed": true
   },
   "outputs": [],
   "source": [
    "def get_pin_ids():\n",
    "    with open(INPUT_PINS, 'rb') as f_pins:\n",
    "        reader = csv.reader(f_pins, delimiter='|')\n",
    "        return [int(row[0]) for row in reader]"
   ]
  },
  {
   "cell_type": "code",
   "execution_count": 3,
   "metadata": {
    "collapsed": false
   },
   "outputs": [
    {
     "name": "stdout",
     "output_type": "stream",
     "text": [
      "20000 pin ids were loaded\n"
     ]
    }
   ],
   "source": [
    "pin_ids = get_pin_ids()\n",
    "\n",
    "print len(pin_ids), 'pin ids were loaded'"
   ]
  },
  {
   "cell_type": "code",
   "execution_count": 4,
   "metadata": {
    "collapsed": true
   },
   "outputs": [],
   "source": [
    "def get_user_ids():\n",
    "    with open(INPUT_USERS, 'rb') as f_users:\n",
    "        reader = csv.reader(f_users, delimiter='|')\n",
    "        return [int(row[0]) for row in reader]"
   ]
  },
  {
   "cell_type": "code",
   "execution_count": 5,
   "metadata": {
    "collapsed": false
   },
   "outputs": [
    {
     "name": "stdout",
     "output_type": "stream",
     "text": [
      "41482 user ids were loaded\n"
     ]
    }
   ],
   "source": [
    "user_ids = get_user_ids()\n",
    "\n",
    "print len(user_ids), 'user ids were loaded'"
   ]
  },
  {
   "cell_type": "code",
   "execution_count": 6,
   "metadata": {
    "collapsed": false
   },
   "outputs": [],
   "source": [
    "def get_positive_repins():\n",
    "    repins = []\n",
    "    with open(INPUT_REPINS, 'rb') as f_repins:\n",
    "        reader = csv.reader(f_repins, delimiter='|')\n",
    "        for row in reader:\n",
    "            repin = [int(x) for x in row]\n",
    "            repins.append(repin)\n",
    "        return repins"
   ]
  },
  {
   "cell_type": "code",
   "execution_count": 7,
   "metadata": {
    "collapsed": false
   },
   "outputs": [
    {
     "name": "stdout",
     "output_type": "stream",
     "text": [
      "81447 positive repins were loaded\n"
     ]
    }
   ],
   "source": [
    "pos_repins = get_positive_repins()\n",
    "\n",
    "print len(pos_repins), 'positive repins were loaded'"
   ]
  },
  {
   "cell_type": "code",
   "execution_count": 8,
   "metadata": {
    "collapsed": true
   },
   "outputs": [],
   "source": [
    "def get_all_categories():\n",
    "    with open(INPUT_CATEGORIES, 'rb') as f_categories:\n",
    "        reader = csv.reader(f_categories, delimiter='|')\n",
    "        return [int(row[1]) for row in reader]"
   ]
  },
  {
   "cell_type": "code",
   "execution_count": 9,
   "metadata": {
    "collapsed": false
   },
   "outputs": [
    {
     "name": "stdout",
     "output_type": "stream",
     "text": [
      "32 categories were loaded\n"
     ]
    }
   ],
   "source": [
    "categories = get_all_categories()\n",
    "\n",
    "print len(categories), 'categories were loaded'"
   ]
  },
  {
   "cell_type": "code",
   "execution_count": 28,
   "metadata": {
    "collapsed": true
   },
   "outputs": [],
   "source": [
    "def generate_random_negative_repins(count):\n",
    "    repins_set = set()\n",
    "    for repin in pos_repins:\n",
    "        repins_set.add((repin[0], repin[1]))\n",
    "    \n",
    "    neg_repins = []\n",
    "    while len(neg_repins) < count:\n",
    "        rand_user_id = user_ids[int(random() * len(user_ids))]\n",
    "        rand_pin_id = pin_ids[int(random() * len(pin_ids))]\n",
    "        repin = (rand_user_id, rand_pin_id)\n",
    "\n",
    "        if repin not in repins_set:\n",
    "            repin = []\n",
    "            repin.append(rand_user_id)\n",
    "            repin.append(rand_pin_id)\n",
    "            repin.append(categories[int(random() * (len(categories) - 1))])\n",
    "            repin.append(int(random() * 500))\n",
    "\n",
    "            neg_repins.append(repin)\n",
    "    return neg_repins"
   ]
  },
  {
   "cell_type": "code",
   "execution_count": 30,
   "metadata": {
    "collapsed": true
   },
   "outputs": [],
   "source": [
    "def save_to_csv(data, filename):\n",
    "    with open(filename, 'wb+') as f:\n",
    "        writer = csv.writer(f, delimiter='|')\n",
    "        for row in data:\n",
    "            writer.writerow(row)"
   ]
  },
  {
   "cell_type": "code",
   "execution_count": 1,
   "metadata": {
    "collapsed": false
   },
   "outputs": [
    {
     "ename": "NameError",
     "evalue": "name 'pos_repins' is not defined",
     "output_type": "error",
     "traceback": [
      "\u001b[1;31m---------------------------------------------------------------------------\u001b[0m",
      "\u001b[1;31mNameError\u001b[0m                                 Traceback (most recent call last)",
      "\u001b[1;32m<ipython-input-1-be604215b391>\u001b[0m in \u001b[0;36m<module>\u001b[1;34m()\u001b[0m\n\u001b[1;32m----> 1\u001b[1;33m \u001b[0mcount\u001b[0m \u001b[1;33m=\u001b[0m \u001b[0mlen\u001b[0m\u001b[1;33m(\u001b[0m\u001b[0mpos_repins\u001b[0m\u001b[1;33m)\u001b[0m\u001b[1;33m\u001b[0m\u001b[0m\n\u001b[0m\u001b[0;32m      2\u001b[0m \u001b[0mneg_repins\u001b[0m \u001b[1;33m=\u001b[0m \u001b[0mgenerate_random_negative_repins\u001b[0m\u001b[1;33m(\u001b[0m\u001b[0mcount\u001b[0m\u001b[1;33m)\u001b[0m\u001b[1;33m\u001b[0m\u001b[0m\n\u001b[0;32m      3\u001b[0m \u001b[1;33m\u001b[0m\u001b[0m\n\u001b[0;32m      4\u001b[0m \u001b[1;32mprint\u001b[0m \u001b[0mlen\u001b[0m\u001b[1;33m(\u001b[0m\u001b[0mneg_repins\u001b[0m\u001b[1;33m)\u001b[0m\u001b[1;33m,\u001b[0m \u001b[1;34m'negative repins were generated'\u001b[0m\u001b[1;33m\u001b[0m\u001b[0m\n",
      "\u001b[1;31mNameError\u001b[0m: name 'pos_repins' is not defined"
     ]
    }
   ],
   "source": [
    "count = len(pos_repins)\n",
    "neg_repins = generate_random_negative_repins(count)\n",
    "\n",
    "print len(neg_repins), 'negative repins were generated'"
   ]
  },
  {
   "cell_type": "code",
   "execution_count": 31,
   "metadata": {
    "collapsed": false
   },
   "outputs": [
    {
     "name": "stdout",
     "output_type": "stream",
     "text": [
      "OK\n"
     ]
    }
   ],
   "source": [
    "negative_repins_file = INPUT_NEGATIVE_REPINS\n",
    "save_repins_to_csv(neg_repins, negative_repins_file)"
   ]
  }
 ],
 "metadata": {
  "kernelspec": {
   "display_name": "Python 2",
   "language": "python",
   "name": "python2"
  },
  "language_info": {
   "codemirror_mode": {
    "name": "ipython",
    "version": 2
   },
   "file_extension": ".py",
   "mimetype": "text/x-python",
   "name": "python",
   "nbconvert_exporter": "python",
   "pygments_lexer": "ipython2",
   "version": "2.7.10"
  }
 },
 "nbformat": 4,
 "nbformat_minor": 0
}
