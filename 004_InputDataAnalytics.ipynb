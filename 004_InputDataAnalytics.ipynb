{
 "cells": [
  {
   "cell_type": "code",
   "execution_count": 9,
   "metadata": {
    "collapsed": false
   },
   "outputs": [
    {
     "name": "stdout",
     "output_type": "stream",
     "text": [
      "Minimum number of repins 1\n",
      "Maximum number of repins 95\n",
      "Average number of repins per user 6.27840444384\n"
     ]
    }
   ],
   "source": [
    "from __future__ import division\n",
    "from input_data import *\n",
    "import csv\n",
    "\n",
    "repins_map = {}\n",
    "\n",
    "total_repins = 0\n",
    "total_users = None\n",
    "with open(INPUT_REPINS, 'rb') as repins_file:\n",
    "    reader = csv.reader(repins_file, delimiter='|')\n",
    "    \n",
    "    for row in reader:\n",
    "        total_repins += 1\n",
    "        \n",
    "        user_id = int(row[0])\n",
    "        pin_id = int(row[1])\n",
    "        \n",
    "        if user_id in repins_map:\n",
    "            repins_map[user_id] += 1\n",
    "        else:\n",
    "            repins_map[user_id] = 1\n",
    "\n",
    "total_users = len(repins_map)\n",
    "\n",
    "items = repins_map.items()\n",
    "min_no_of_repins = min(items, key=lambda x: x[1])[1]\n",
    "max_no_of_repins = max(items, key=lambda x: x[1])[1]\n",
    "\n",
    "print 'Minimum number of repins', min_no_of_repins\n",
    "print 'Maximum number of repins', max_no_of_repins\n",
    "print 'Average number of repins per user', total_repins / total_users"
   ]
  },
  {
   "cell_type": "code",
   "execution_count": null,
   "metadata": {
    "collapsed": true
   },
   "outputs": [],
   "source": []
  }
 ],
 "metadata": {
  "kernelspec": {
   "display_name": "Python 2",
   "language": "python",
   "name": "python2"
  },
  "language_info": {
   "codemirror_mode": {
    "name": "ipython",
    "version": 2
   },
   "file_extension": ".py",
   "mimetype": "text/x-python",
   "name": "python",
   "nbconvert_exporter": "python",
   "pygments_lexer": "ipython2",
   "version": "2.7.10"
  }
 },
 "nbformat": 4,
 "nbformat_minor": 0
}
