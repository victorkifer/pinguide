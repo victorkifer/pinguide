{
 "cells": [
  {
   "cell_type": "code",
   "execution_count": 1,
   "metadata": {
    "collapsed": true
   },
   "outputs": [],
   "source": [
    "import urllib\n",
    "import urllib2\n",
    "##########################################################\n",
    "def fetch_file(link) :\n",
    "\n",
    "#        user_agent  = 'curl/7.29.0'\n",
    "#        host = 'www.pinterest.com'\n",
    "#        accept = '*/*'\n",
    "#        \n",
    "        url = link\n",
    "#        user_agent = 'Mozilla/5.0 (Windows NT 6.3; WOW64) AppleWebKit/537.36 (KHTML, like Gecko) Chrome/43.0.2357.124 Safari/537.36'\n",
    "#        values = {}\n",
    "#        headers = {\"User-Agent\" : user_agent, \"Host\" : host, \"Accept\" : accept} #{'User-Agent' : user_agent }\n",
    "#        headers = {} #{'User-Agent' : user_agent }\n",
    "#        data = urllib.urlencode(values)\n",
    "        req = urllib2.Request(url) #, data, headers)\n",
    "        response = urllib2.urlopen(req)\n",
    "        the_page = response.read()\n",
    "        return the_page\n",
    "    \n",
    "html_code = fetch_file('https://www.pinterest.com/nick_goodey/under-the-sea/')\n",
    "#print html_code.index(\"<img\")\n",
    "#print html_code"
   ]
  },
  {
   "cell_type": "code",
   "execution_count": null,
   "metadata": {
    "collapsed": true
   },
   "outputs": [],
   "source": [
    "from bs4 import BeautifulSoup\n",
    "soup = BeautifulSoup(html_code, 'html.parser')\n",
    "for link in soup.find_all('img'):\n",
    "    print link[\"src\"]"
   ]
  }
 ],
 "metadata": {
  "kernelspec": {
   "display_name": "Python 2",
   "language": "python",
   "name": "python2"
  },
  "language_info": {
   "codemirror_mode": {
    "name": "ipython",
    "version": 2
   },
   "file_extension": ".py",
   "mimetype": "text/x-python",
   "name": "python",
   "nbconvert_exporter": "python",
   "pygments_lexer": "ipython2",
   "version": "2.7.5"
  }
 },
 "nbformat": 4,
 "nbformat_minor": 0
}
