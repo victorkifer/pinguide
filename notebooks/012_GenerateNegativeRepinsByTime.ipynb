{
 "cells": [
  {
   "cell_type": "code",
   "execution_count": 17,
   "metadata": {
    "collapsed": true
   },
   "outputs": [],
   "source": [
    "from input_data import *\n",
    "\n",
    "import csv\n",
    "from random import *"
   ]
  },
  {
   "cell_type": "code",
   "execution_count": 2,
   "metadata": {
    "collapsed": true
   },
   "outputs": [],
   "source": [
    "def get_user_ids():\n",
    "    with open(INPUT_USERS, 'rb') as f_users:\n",
    "        reader = csv.reader(f_users, delimiter='|')\n",
    "        return [int(row[0]) for row in reader]"
   ]
  },
  {
   "cell_type": "code",
   "execution_count": 3,
   "metadata": {
    "collapsed": false
   },
   "outputs": [
    {
     "name": "stdout",
     "output_type": "stream",
     "text": [
      "401241 user ids were loaded\n"
     ]
    }
   ],
   "source": [
    "user_ids = get_user_ids()\n",
    "\n",
    "print len(user_ids), 'user ids were loaded'"
   ]
  },
  {
   "cell_type": "code",
   "execution_count": 4,
   "metadata": {
    "collapsed": false
   },
   "outputs": [],
   "source": [
    "def get_positive_repins():\n",
    "    repins = []\n",
    "    with open(INPUT_REPINS, 'rb') as f_repins:\n",
    "        reader = csv.reader(f_repins, delimiter='|')\n",
    "        for row in reader:\n",
    "            repin = [int(x) for x in row]\n",
    "            repins.append(repin)\n",
    "        return repins"
   ]
  },
  {
   "cell_type": "code",
   "execution_count": 5,
   "metadata": {
    "collapsed": false
   },
   "outputs": [
    {
     "name": "stdout",
     "output_type": "stream",
     "text": [
      "1105401 positive repins were loaded\n"
     ]
    }
   ],
   "source": [
    "pos_repins = get_positive_repins()\n",
    "\n",
    "print len(pos_repins), 'positive repins were loaded'"
   ]
  },
  {
   "cell_type": "code",
   "execution_count": 20,
   "metadata": {
    "collapsed": false
   },
   "outputs": [],
   "source": [
    "def find_near_repins(repins, repin, max_count):\n",
    "    try:\n",
    "        index = repins.index(repin)\n",
    "        \n",
    "        precision = max_count / 2;\n",
    "        start_index = index - precision\n",
    "        end_index = index + precision\n",
    "        \n",
    "        if start_index < 0:\n",
    "            start_index = 0\n",
    "        \n",
    "        if end_index >= len(repins):\n",
    "            end_index = len(repins) - 1\n",
    "        \n",
    "        near_repins = []\n",
    "        while start_index <= end_index:\n",
    "            c_repin = repins[start_index]\n",
    "            \n",
    "            start_index += 1\n",
    "            if c_repin[0] == repin[0]:\n",
    "                continue\n",
    "                \n",
    "            near_repins.append(c_repin)\n",
    "        \n",
    "        return near_repins\n",
    "    except ValueError:\n",
    "        return []\n",
    "\n",
    "from sys import stdout\n",
    "def generate_time_negative_repins(count):\n",
    "    m_user_pins = {}\n",
    "    for repin in pos_repins:\n",
    "        user_id = repin[0]\n",
    "        pin_id = repin[1]\n",
    "        \n",
    "        if user_id in m_user_pins:\n",
    "            m_user_pins[user_id].add(pin_id)\n",
    "        else:\n",
    "            m_user_pins[user_id] = set([pin_id])\n",
    "    \n",
    "    neg_repins = []\n",
    "    pos_repins_list = [(x[0], x[1]) for x in pos_repins]\n",
    "    while len(neg_repins) < count:\n",
    "        rand_user_id = user_ids[randint(0, len(user_ids) - 1)]\n",
    "        \n",
    "        if rand_user_id not in m_user_pins:\n",
    "            continue\n",
    "        \n",
    "        user_pins = m_user_pins[rand_user_id]\n",
    "        \n",
    "        added_pins = set()\n",
    "        for pin_id in user_pins:\n",
    "            repin = (rand_user_id, pin_id)\n",
    "            near_repins = find_near_repins(pos_repins_list, repin, 4)\n",
    "            \n",
    "            for repin in near_repins:\n",
    "                neg_repins.append(repin)\n",
    "                added_pins.add(repin[1])\n",
    "        \n",
    "        for pin in added_pins:\n",
    "            user_pins.add(pin)\n",
    "        \n",
    "        stdout.write(\"\\r%d\" % len(neg_repins))\n",
    "        stdout.flush()\n",
    "    \n",
    "    stdout.write('\\r')\n",
    "    stdout.flush()\n",
    "    \n",
    "    return neg_repins"
   ]
  },
  {
   "cell_type": "code",
   "execution_count": 23,
   "metadata": {
    "collapsed": true
   },
   "outputs": [],
   "source": [
    "def save_to_csv(data, filename):\n",
    "    with open(filename, 'wb+') as f:\n",
    "        writer = csv.writer(f, delimiter='|')\n",
    "        for row in data:\n",
    "            writer.writerow(row)"
   ]
  },
  {
   "cell_type": "code",
   "execution_count": 21,
   "metadata": {
    "collapsed": false
   },
   "outputs": [
    {
     "name": "stdout",
     "output_type": "stream",
     "text": [
      "11054041105404 negative repins were generated\n"
     ]
    }
   ],
   "source": [
    "count = len(pos_repins)\n",
    "neg_repins = generate_time_negative_repins(count)\n",
    "\n",
    "print len(neg_repins), 'negative repins were generated'"
   ]
  },
  {
   "cell_type": "code",
   "execution_count": 24,
   "metadata": {
    "collapsed": false
   },
   "outputs": [],
   "source": [
    "negative_repins_file = INPUT_NEGATIVE_REPINS\n",
    "save_to_csv(neg_repins, negative_repins_file)"
   ]
  },
  {
   "cell_type": "code",
   "execution_count": null,
   "metadata": {
    "collapsed": true
   },
   "outputs": [],
   "source": []
  }
 ],
 "metadata": {
  "kernelspec": {
   "display_name": "Python 2",
   "language": "python",
   "name": "python2"
  },
  "language_info": {
   "codemirror_mode": {
    "name": "ipython",
    "version": 2
   },
   "file_extension": ".py",
   "mimetype": "text/x-python",
   "name": "python",
   "nbconvert_exporter": "python",
   "pygments_lexer": "ipython2",
   "version": "2.7.6"
  }
 },
 "nbformat": 4,
 "nbformat_minor": 0
}
