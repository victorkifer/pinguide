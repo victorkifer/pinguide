{
 "cells": [
  {
   "cell_type": "code",
   "execution_count": 1,
   "metadata": {
    "collapsed": false
   },
   "outputs": [],
   "source": [
    "from input_data import *\n",
    "import csv\n",
    "from random import random\n",
    "from sklearn.ensemble import RandomForestClassifier"
   ]
  },
  {
   "cell_type": "code",
   "execution_count": 2,
   "metadata": {
    "collapsed": true
   },
   "outputs": [],
   "source": [
    "def get_pins_map(file):\n",
    "    '''\n",
    "    Returns pins map\n",
    "    key = pin_id\n",
    "    value = pin_features\n",
    "    '''\n",
    "    pins = {}\n",
    "    with open(file, 'rb') as f_pins:\n",
    "        reader = csv.reader(f_pins, delimiter='|')\n",
    "        for row in reader:\n",
    "            pins[int(row[0])] = [float(x) for x in row[1:1015]]\n",
    "    return pins"
   ]
  },
  {
   "cell_type": "code",
   "execution_count": 3,
   "metadata": {
    "collapsed": true
   },
   "outputs": [],
   "source": [
    "def get_users_map(file):\n",
    "    '''\n",
    "    Returns users map\n",
    "    key = user_id\n",
    "    value = user_features\n",
    "    '''\n",
    "    users = {}\n",
    "    with open(file, 'rb') as f_users:\n",
    "        reader = csv.reader(f_users, delimiter='|')\n",
    "        for row in reader:\n",
    "            users[int(row[0])] = [float(x) for x in row[1:]]\n",
    "    return users"
   ]
  },
  {
   "cell_type": "code",
   "execution_count": 4,
   "metadata": {
    "collapsed": false
   },
   "outputs": [],
   "source": [
    "def get_repins(file):\n",
    "    '''\n",
    "    Returns all repins from given file\n",
    "    Repin is represented as a tuple (user_id, pin_id)    \n",
    "    '''\n",
    "    repins = []\n",
    "    with open(file, 'rb') as repins_file:\n",
    "        reader = csv.reader(repins_file, delimiter='|')\n",
    "        for row in reader:\n",
    "            repins.append((int(row[0]), int(row[1])))\n",
    "    return repins"
   ]
  },
  {
   "cell_type": "code",
   "execution_count": 5,
   "metadata": {
    "collapsed": false
   },
   "outputs": [],
   "source": [
    "pos_repins = get_repins(INPUT_REPINS)\n",
    "neg_repins = get_repins(INPUT_NEGATIVE_REPINS_TRAIN)"
   ]
  },
  {
   "cell_type": "code",
   "execution_count": 6,
   "metadata": {
    "collapsed": false
   },
   "outputs": [],
   "source": [
    "m_pins = get_pins_map(INPUT_PINS)"
   ]
  },
  {
   "cell_type": "code",
   "execution_count": 7,
   "metadata": {
    "collapsed": false
   },
   "outputs": [],
   "source": [
    "m_users = get_users_map(INPUT_USERS)"
   ]
  },
  {
   "cell_type": "code",
   "execution_count": 8,
   "metadata": {
    "collapsed": false
   },
   "outputs": [],
   "source": [
    "x = []\n",
    "y = []\n",
    "\n",
    "for repin in pos_repins:\n",
    "    if repin[0] not in m_users:\n",
    "        continue\n",
    "    if repin[1] not in m_pins:\n",
    "        continue\n",
    "        \n",
    "    user_feature = m_users[repin[0]]\n",
    "    pin_feature = m_pins[repin[1]]\n",
    "    \n",
    "    x.append(user_feature + pin_feature)\n",
    "    y.append(1)\n",
    "\n",
    "for repin in neg_repins:\n",
    "    if repin[0] not in m_users:\n",
    "        continue\n",
    "    if repin[1] not in m_pins:\n",
    "        continue\n",
    "        \n",
    "    user_feature = m_users[repin[0]]\n",
    "    pin_feature = m_pins[repin[1]]\n",
    "    \n",
    "    x.append(user_feature + pin_feature)\n",
    "    y.append(0)"
   ]
  },
  {
   "cell_type": "code",
   "execution_count": null,
   "metadata": {
    "collapsed": false
   },
   "outputs": [],
   "source": [
    "print len(x), len(x[0])"
   ]
  },
  {
   "cell_type": "code",
   "execution_count": null,
   "metadata": {
    "collapsed": false
   },
   "outputs": [],
   "source": [
    "clf = RandomForestClassifier(n_estimators=10, n_jobs=4)\n",
    "clf.fit(x, y)"
   ]
  },
  {
   "cell_type": "code",
   "execution_count": 9,
   "metadata": {
    "collapsed": false
   },
   "outputs": [
    {
     "name": "stdout",
     "output_type": "stream",
     "text": [
      "81447 positive repins were loaded from test set\n",
      "54365 negative repins were loaded from test set\n"
     ]
    }
   ],
   "source": [
    "test_pos_repins = get_repins(INPUT_TEST_FILE)\n",
    "print len(pos_repins), 'positive repins were loaded from test set'\n",
    "\n",
    "test_neg_repins = get_repins(INPUT_NEGATIVE_REPINS_TEST)\n",
    "print len(neg_repins), 'negative repins were loaded from test set'"
   ]
  },
  {
   "cell_type": "code",
   "execution_count": 10,
   "metadata": {
    "collapsed": true
   },
   "outputs": [],
   "source": [
    "x_test = []\n",
    "y_test = []\n",
    "\n",
    "for repin in test_pos_repins:\n",
    "    if repin[0] not in m_users:\n",
    "        continue\n",
    "    if repin[1] not in m_pins:\n",
    "        continue\n",
    "    \n",
    "    user_feature = m_users[repin[0]]\n",
    "    pin_feature = m_pins[repin[1]]\n",
    "    \n",
    "    x_test.append(user_feature + pin_feature)\n",
    "    y_test.append(1)\n",
    "    \n",
    "for repin in test_neg_repins:\n",
    "    if repin[0] not in m_users:\n",
    "        continue\n",
    "    if repin[1] not in m_pins:\n",
    "        continue\n",
    "    \n",
    "    user_feature = m_users[repin[0]]\n",
    "    pin_feature = m_pins[repin[1]]\n",
    "    \n",
    "    x_test.append(user_feature + pin_feature)\n",
    "    y_test.append(0)"
   ]
  },
  {
   "cell_type": "code",
   "execution_count": 13,
   "metadata": {
    "collapsed": false
   },
   "outputs": [],
   "source": [
    "y_hat = clf.predict(x_test)"
   ]
  },
  {
   "cell_type": "code",
   "execution_count": 19,
   "metadata": {
    "collapsed": false
   },
   "outputs": [
    {
     "name": "stdout",
     "output_type": "stream",
     "text": [
      "0.792162570471\n"
     ]
    }
   ],
   "source": [
    "print clf.score(x_test, y_test)"
   ]
  },
  {
   "cell_type": "code",
   "execution_count": 18,
   "metadata": {
    "collapsed": false
   },
   "outputs": [
    {
     "name": "stdout",
     "output_type": "stream",
     "text": [
      "Precision [ 0.50105015  0.71068866  1.        ]\n",
      "Recall [ 1.          0.98698338  0.        ]\n",
      "Thresholds [0 1]\n"
     ]
    }
   ],
   "source": [
    "from sklearn.metrics import precision_recall_curve\n",
    "\n",
    "precision, recall, thresholds = precision_recall_curve(y_test, y_hat)\n",
    "\n",
    "print 'Precision', precision\n",
    "print 'Recall', recall\n",
    "print 'Thresholds', thresholds"
   ]
  },
  {
   "cell_type": "code",
   "execution_count": null,
   "metadata": {
    "collapsed": false
   },
   "outputs": [
    {
     "name": "stdout",
     "output_type": "stream",
     "text": [
      "No of trees 10\n",
      "Training time 60.1246039867\n",
      "Prediction time 4.05399394035\n",
      "Score: 0.792328383507\n",
      "Avg precision 0.852253604417\n",
      "Precision [ 0.50105015  0.71063492  1.        ]\n",
      "Recall [ 1.          0.98771878  0.        ]\n",
      "Threshold [0 1]\n",
      "-------------------------------------------------\n",
      "No of trees 50\n"
     ]
    }
   ],
   "source": [
    "tree_sizes = [10, 50, 100, 500, 1000]\n",
    "import time\n",
    "\n",
    "learning_times = []\n",
    "predicting_times = []\n",
    "scores = []\n",
    "precisions = []\n",
    "recalls = []\n",
    "thresholds = []\n",
    "for tree_size in tree_sizes:\n",
    "    print 'No of trees', tree_size\n",
    "    t_start = time.time()\n",
    "    clf = RandomForestClassifier(n_estimators=tree_size, n_jobs=4)\n",
    "    clf.fit(x, y)\n",
    "    t_end = time.time()\n",
    "    print 'Training time', t_end - t_start\n",
    "    \n",
    "    learning_times.append(t_end-t_start)\n",
    "    \n",
    "    p_start = time.time()\n",
    "    y_hat = clf.predict(x_test)\n",
    "    p_end = time.time()\n",
    "    predicting_times.append(p_end-p_start)\n",
    "    print 'Prediction time', p_end - p_start\n",
    "    \n",
    "    from sklearn.metrics import precision_recall_curve\n",
    "    from sklearn.metrics import average_precision_score\n",
    "\n",
    "    score = clf.score(x_test, y_test)\n",
    "    print 'Score:', score\n",
    "    avg_precision = average_precision_score(y_test, y_hat)\n",
    "    print 'Avg precision', avg_precision\n",
    "    precision, recall, threshold = precision_recall_curve(y_test, y_hat)\n",
    "    print 'Precision', precision\n",
    "    print 'Recall', recall\n",
    "    print 'Threshold', threshold\n",
    "    \n",
    "    scores.append(score)\n",
    "    precisions.append(precision)\n",
    "    recalls.append(recall)\n",
    "    thresholds.append(threshold)\n",
    "    print '-------------------------------------------------'\n",
    "    "
   ]
  },
  {
   "cell_type": "code",
   "execution_count": null,
   "metadata": {
    "collapsed": false
   },
   "outputs": [],
   "source": [
    "print 'Training set', (len(x), len(x[0]))\n",
    "print 'Test set', (len(x_test), len(x_test[0]))"
   ]
  },
  {
   "cell_type": "code",
   "execution_count": null,
   "metadata": {
    "collapsed": true
   },
   "outputs": [],
   "source": [
    "import matplotlib.pyplot as plt\n",
    "\n",
    "plt.plot(tree_sizes, scores)"
   ]
  },
  {
   "cell_type": "code",
   "execution_count": null,
   "metadata": {
    "collapsed": true
   },
   "outputs": [],
   "source": []
  }
 ],
 "metadata": {
  "kernelspec": {
   "display_name": "Python 2",
   "language": "python",
   "name": "python2"
  },
  "language_info": {
   "codemirror_mode": {
    "name": "ipython",
    "version": 2
   },
   "file_extension": ".py",
   "mimetype": "text/x-python",
   "name": "python",
   "nbconvert_exporter": "python",
   "pygments_lexer": "ipython2",
   "version": "2.7.6"
  }
 },
 "nbformat": 4,
 "nbformat_minor": 0
}
