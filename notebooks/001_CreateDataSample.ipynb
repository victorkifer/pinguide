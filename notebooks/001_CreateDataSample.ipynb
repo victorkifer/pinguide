{
 "cells": [
  {
   "cell_type": "code",
   "execution_count": null,
   "metadata": {
    "collapsed": true
   },
   "outputs": [],
   "source": [
    "from input_data import *\n",
    "import csv"
   ]
  },
  {
   "cell_type": "code",
   "execution_count": null,
   "metadata": {
    "collapsed": false
   },
   "outputs": [],
   "source": [
    "def create_pins_sample(origin, sample, size):\n",
    "    with open(origin, 'rb') as f_pins, open(sample, 'wb+') as f_spins:\n",
    "        reader = csv.reader(f_pins, delimiter='|')\n",
    "        writer = csv.writer(f_spins, delimiter='|')\n",
    "        index = 0\n",
    "        for row in reader:\n",
    "            writer.writerow(row)\n",
    "            index += 1\n",
    "            if index == size:\n",
    "                break\n",
    "\n",
    "create_pins_sample(INPUT_PINS_ORIGIN, INPUT_PINS_SAMPLE, 20000)"
   ]
  },
  {
   "cell_type": "code",
   "execution_count": null,
   "metadata": {
    "collapsed": true
   },
   "outputs": [],
   "source": [
    "def get_pins(file):\n",
    "    '''\n",
    "    Returns pins\n",
    "    '''\n",
    "    pins = []\n",
    "    with open(file, 'rb') as f_pins:\n",
    "        reader = csv.reader(f_pins, delimiter='|')\n",
    "        for row in reader:\n",
    "            try:\n",
    "                pin = (int(row[0]), [float(x) for x in row[1:5149]])\n",
    "                pins.append(pin)\n",
    "            except Exception, e:\n",
    "                print e\n",
    "                print row\n",
    "    return pins"
   ]
  },
  {
   "cell_type": "code",
   "execution_count": null,
   "metadata": {
    "collapsed": true
   },
   "outputs": [],
   "source": [
    "def get_users(file):\n",
    "    '''\n",
    "    Returns users\n",
    "    '''\n",
    "    users = []\n",
    "    with open(file, 'rb') as f_users:\n",
    "        reader = csv.reader(f_users, delimiter='|')\n",
    "        for row in reader:\n",
    "            user = (int(row[0]), [float(x) for x in row[1:]])\n",
    "            users.append(user)\n",
    "    return users"
   ]
  },
  {
   "cell_type": "code",
   "execution_count": null,
   "metadata": {
    "collapsed": true
   },
   "outputs": [],
   "source": [
    "def get_repins(file):\n",
    "    '''\n",
    "    Returns all repins from given file\n",
    "    '''\n",
    "    repins = []\n",
    "    with open(file, 'rb') as f_repins:\n",
    "        reader = csv.reader(f_repins, delimiter='|')\n",
    "        for row in reader:\n",
    "            repins.append([int(x) for x in row])\n",
    "    return repins"
   ]
  },
  {
   "cell_type": "code",
   "execution_count": null,
   "metadata": {
    "collapsed": false
   },
   "outputs": [],
   "source": [
    "pins = get_pins(INPUT_PINS_SAMPLE)"
   ]
  },
  {
   "cell_type": "code",
   "execution_count": null,
   "metadata": {
    "collapsed": false
   },
   "outputs": [],
   "source": [
    "pin_ids = set([x[0] for x in pins])"
   ]
  },
  {
   "cell_type": "code",
   "execution_count": null,
   "metadata": {
    "collapsed": false
   },
   "outputs": [],
   "source": [
    "repins = get_repins(INPUT_REPINS_ORIGIN)"
   ]
  },
  {
   "cell_type": "code",
   "execution_count": null,
   "metadata": {
    "collapsed": true
   },
   "outputs": [],
   "source": [
    "repins_sample = []\n",
    "for repin in repins:\n",
    "    if repin[1] in pin_ids:\n",
    "        repins_sample.append(repin)"
   ]
  },
  {
   "cell_type": "code",
   "execution_count": null,
   "metadata": {
    "collapsed": false
   },
   "outputs": [],
   "source": [
    "with open(INPUT_REPINS_SAMPLE, 'wb+') as repins_file:\n",
    "    writer = csv.writer(repins_file, delimiter='|')\n",
    "    for repin in repins_sample:\n",
    "        writer.writerow(repin)"
   ]
  },
  {
   "cell_type": "code",
   "execution_count": null,
   "metadata": {
    "collapsed": true
   },
   "outputs": [],
   "source": [
    "user_ids = set([x[0] for x in repins_sample])"
   ]
  },
  {
   "cell_type": "code",
   "execution_count": null,
   "metadata": {
    "collapsed": true
   },
   "outputs": [],
   "source": [
    "users = get_users(INPUT_USERS_ORIGIN)"
   ]
  },
  {
   "cell_type": "code",
   "execution_count": null,
   "metadata": {
    "collapsed": true
   },
   "outputs": [],
   "source": [
    "users_sample = []\n",
    "for user in users:\n",
    "    if user[0] in user_ids:\n",
    "        users_sample.append(user)"
   ]
  },
  {
   "cell_type": "code",
   "execution_count": null,
   "metadata": {
    "collapsed": false
   },
   "outputs": [],
   "source": [
    "with open(INPUT_USERS_SAMPLE, 'wb+') as users_file:\n",
    "    writer = csv.writer(users_file, delimiter='|')\n",
    "    for user in users_sample:\n",
    "        writer.writerow([user[0]] + user[1])"
   ]
  },
  {
   "cell_type": "code",
   "execution_count": null,
   "metadata": {
    "collapsed": true
   },
   "outputs": [],
   "source": []
  }
 ],
 "metadata": {
  "kernelspec": {
   "display_name": "Python 2",
   "language": "python",
   "name": "python2"
  },
  "language_info": {
   "codemirror_mode": {
    "name": "ipython",
    "version": 2
   },
   "file_extension": ".py",
   "mimetype": "text/x-python",
   "name": "python",
   "nbconvert_exporter": "python",
   "pygments_lexer": "ipython2",
   "version": "2.7.6"
  }
 },
 "nbformat": 4,
 "nbformat_minor": 0
}