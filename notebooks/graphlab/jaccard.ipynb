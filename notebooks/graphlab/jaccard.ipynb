{
 "cells": [
  {
   "cell_type": "code",
   "execution_count": 1,
   "metadata": {
    "collapsed": false
   },
   "outputs": [
    {
     "name": "stderr",
     "output_type": "stream",
     "text": [
      "[INFO] This trial license of GraphLab Create is assigned to andryit@torba.com and will expire on September 09, 2015. Please contact trial@dato.com for licensing options or to request a free non-commercial license for personal or academic use.\n",
      "\n",
      "[INFO] Start server at: ipc:///tmp/graphlab_server-4865 - Server binary: /home/volodya/dato-env/lib/python2.7/site-packages/graphlab/unity_server - Server log: /tmp/graphlab_server_1439739452.log\n",
      "[INFO] GraphLab Server Version: 1.5.2\n"
     ]
    },
    {
     "name": "stdout",
     "output_type": "stream",
     "text": [
      "PROGRESS: Finished parsing file /home/volodya/Downloads/repins.csv\n",
      "PROGRESS: Parsing completed. Parsed 100 lines in 0.640752 secs.\n",
      "------------------------------------------------------\n",
      "Inferred types from first line of file as \n",
      "column_type_hints=[int,int,int,int]\n",
      "If parsing fails due to incorrect types, you can correct\n",
      "the inferred type list above and pass it to read_csv in\n",
      "the column_type_hints argument\n",
      "------------------------------------------------------\n",
      "PROGRESS: Finished parsing file /home/volodya/Downloads/repins.csv\n",
      "PROGRESS: Parsing completed. Parsed 1105401 lines in 0.629834 secs.\n"
     ]
    }
   ],
   "source": [
    "import graphlab as gl\n",
    "import matplotlib as mpl\n",
    "rep = gl.SFrame.read_csv('repins.csv', delimiter='|')"
   ]
  },
  {
   "cell_type": "code",
   "execution_count": 3,
   "metadata": {
    "collapsed": false
   },
   "outputs": [],
   "source": [
    "rep_train, rep_test = rep.random_split(.66, seed=5)\n"
   ]
  },
  {
   "cell_type": "code",
   "execution_count": 4,
   "metadata": {
    "collapsed": true
   },
   "outputs": [],
   "source": [
    "del rep_train[\"category\"]\n",
    "del rep_train[\"anonymized_board_id\"]\n",
    "del rep_test[\"category\"]\n",
    "del rep_test[\"anonymized_board_id\"]"
   ]
  },
  {
   "cell_type": "code",
   "execution_count": 11,
   "metadata": {
    "collapsed": false
   },
   "outputs": [
    {
     "name": "stdout",
     "output_type": "stream",
     "text": [
      "PROGRESS: Recsys training: model = item_similarity\n",
      "PROGRESS: Preparing data set.\n",
      "PROGRESS:     Data has 729453 observations with 166897 users and 323808 items.\n",
      "PROGRESS:     Data prepared in: 0.771538s\n",
      "PROGRESS: Processing 729453 observations:\n",
      "PROGRESS:    Observations   Seconds\n",
      "PROGRESS:          729453   5.30625\n",
      "PROGRESS: Computing similar items for 323808 items using 8 partitions:\n",
      "PROGRESS:  Partition     Items   Seconds\n",
      "PROGRESS:          0     40476   5.49356\n",
      "PROGRESS:          1     80951    5.6677\n",
      "PROGRESS:          2    121431    5.9684\n",
      "PROGRESS:          3    161905   6.14419\n",
      "PROGRESS:          4    202384   6.37095\n",
      "PROGRESS:          5    242861   6.59103\n",
      "PROGRESS:          6    283333   6.82232\n",
      "PROGRESS:          7    323808   7.05286\n",
      "PROGRESS: Finished getting similar items for 323808 items in 7.05302s.\n",
      "PROGRESS: Finished training in 10.6448s\n"
     ]
    }
   ],
   "source": [
    "s = gl.item_similarity_recommender.create(rep_train,\n",
    "                                user_id='user_id',\n",
    "                                item_id='item_id',\n",
    "                                similarity_type='jaccard')\n",
    "\n"
   ]
  },
  {
   "cell_type": "code",
   "execution_count": 12,
   "metadata": {
    "collapsed": false
   },
   "outputs": [
    {
     "name": "stdout",
     "output_type": "stream",
     "text": [
      "PROGRESS: recommendations finished on 1000/140198 queries. users per second: 237.395\n",
      "PROGRESS: recommendations finished on 2000/140198 queries. users per second: 244.854\n",
      "PROGRESS: recommendations finished on 3000/140198 queries. users per second: 246.969\n",
      "PROGRESS: recommendations finished on 4000/140198 queries. users per second: 248.31\n",
      "PROGRESS: recommendations finished on 5000/140198 queries. users per second: 248.938\n",
      "PROGRESS: recommendations finished on 6000/140198 queries. users per second: 249.273\n",
      "PROGRESS: recommendations finished on 7000/140198 queries. users per second: 249.824\n",
      "PROGRESS: recommendations finished on 8000/140198 queries. users per second: 250.114\n",
      "PROGRESS: recommendations finished on 9000/140198 queries. users per second: 250.257\n",
      "PROGRESS: recommendations finished on 10000/140198 queries. users per second: 250.381\n",
      "PROGRESS: recommendations finished on 11000/140198 queries. users per second: 250.491\n",
      "PROGRESS: recommendations finished on 12000/140198 queries. users per second: 250.281\n",
      "PROGRESS: recommendations finished on 13000/140198 queries. users per second: 250.326\n",
      "PROGRESS: recommendations finished on 14000/140198 queries. users per second: 250.395\n",
      "PROGRESS: recommendations finished on 15000/140198 queries. users per second: 250.505\n",
      "PROGRESS: recommendations finished on 16000/140198 queries. users per second: 250.549\n",
      "PROGRESS: recommendations finished on 17000/140198 queries. users per second: 250.549\n",
      "PROGRESS: recommendations finished on 18000/140198 queries. users per second: 250.593\n",
      "PROGRESS: recommendations finished on 19000/140198 queries. users per second: 250.589\n",
      "PROGRESS: recommendations finished on 20000/140198 queries. users per second: 250.601\n",
      "PROGRESS: recommendations finished on 21000/140198 queries. users per second: 250.578\n",
      "PROGRESS: recommendations finished on 22000/140198 queries. users per second: 250.564\n",
      "PROGRESS: recommendations finished on 23000/140198 queries. users per second: 250.56\n",
      "PROGRESS: recommendations finished on 24000/140198 queries. users per second: 250.578\n",
      "PROGRESS: recommendations finished on 25000/140198 queries. users per second: 250.589\n",
      "PROGRESS: recommendations finished on 26000/140198 queries. users per second: 250.592\n",
      "PROGRESS: recommendations finished on 27000/140198 queries. users per second: 250.595\n",
      "PROGRESS: recommendations finished on 28000/140198 queries. users per second: 250.59\n",
      "PROGRESS: recommendations finished on 29000/140198 queries. users per second: 250.567\n",
      "PROGRESS: recommendations finished on 30000/140198 queries. users per second: 250.572\n",
      "PROGRESS: recommendations finished on 31000/140198 queries. users per second: 250.553\n",
      "PROGRESS: recommendations finished on 32000/140198 queries. users per second: 250.545\n",
      "PROGRESS: recommendations finished on 33000/140198 queries. users per second: 250.47\n",
      "PROGRESS: recommendations finished on 34000/140198 queries. users per second: 250.446\n",
      "PROGRESS: recommendations finished on 35000/140198 queries. users per second: 250.454\n",
      "PROGRESS: recommendations finished on 36000/140198 queries. users per second: 250.444\n",
      "PROGRESS: recommendations finished on 37000/140198 queries. users per second: 250.435\n",
      "PROGRESS: recommendations finished on 38000/140198 queries. users per second: 250.421\n",
      "PROGRESS: recommendations finished on 39000/140198 queries. users per second: 250.417\n",
      "PROGRESS: recommendations finished on 40000/140198 queries. users per second: 250.4\n",
      "PROGRESS: recommendations finished on 41000/140198 queries. users per second: 250.41\n",
      "PROGRESS: recommendations finished on 42000/140198 queries. users per second: 250.421\n",
      "PROGRESS: recommendations finished on 43000/140198 queries. users per second: 250.416\n",
      "PROGRESS: recommendations finished on 44000/140198 queries. users per second: 250.432\n",
      "PROGRESS: recommendations finished on 45000/140198 queries. users per second: 250.457\n",
      "PROGRESS: recommendations finished on 46000/140198 queries. users per second: 250.455\n",
      "PROGRESS: recommendations finished on 47000/140198 queries. users per second: 250.431\n",
      "PROGRESS: recommendations finished on 48000/140198 queries. users per second: 250.451\n",
      "PROGRESS: recommendations finished on 49000/140198 queries. users per second: 250.456\n",
      "PROGRESS: recommendations finished on 50000/140198 queries. users per second: 250.456\n",
      "PROGRESS: recommendations finished on 51000/140198 queries. users per second: 250.461\n",
      "PROGRESS: recommendations finished on 52000/140198 queries. users per second: 250.458\n",
      "PROGRESS: recommendations finished on 53000/140198 queries. users per second: 250.459\n",
      "PROGRESS: recommendations finished on 54000/140198 queries. users per second: 250.464\n",
      "PROGRESS: recommendations finished on 55000/140198 queries. users per second: 250.469\n",
      "PROGRESS: recommendations finished on 56000/140198 queries. users per second: 250.457\n",
      "PROGRESS: recommendations finished on 57000/140198 queries. users per second: 250.427\n",
      "PROGRESS: recommendations finished on 58000/140198 queries. users per second: 250.394\n",
      "PROGRESS: recommendations finished on 59000/140198 queries. users per second: 250.425\n",
      "PROGRESS: recommendations finished on 60000/140198 queries. users per second: 250.456\n",
      "PROGRESS: recommendations finished on 61000/140198 queries. users per second: 250.458\n",
      "PROGRESS: recommendations finished on 62000/140198 queries. users per second: 250.456\n",
      "PROGRESS: recommendations finished on 63000/140198 queries. users per second: 250.432\n",
      "PROGRESS: recommendations finished on 64000/140198 queries. users per second: 250.425\n",
      "PROGRESS: recommendations finished on 65000/140198 queries. users per second: 250.428\n",
      "PROGRESS: recommendations finished on 66000/140198 queries. users per second: 250.416\n",
      "PROGRESS: recommendations finished on 67000/140198 queries. users per second: 250.426\n",
      "PROGRESS: recommendations finished on 68000/140198 queries. users per second: 250.439\n",
      "PROGRESS: recommendations finished on 69000/140198 queries. users per second: 250.452\n",
      "PROGRESS: recommendations finished on 70000/140198 queries. users per second: 250.466\n",
      "PROGRESS: recommendations finished on 71000/140198 queries. users per second: 250.463\n",
      "PROGRESS: recommendations finished on 72000/140198 queries. users per second: 250.467\n",
      "PROGRESS: recommendations finished on 73000/140198 queries. users per second: 250.291\n",
      "PROGRESS: recommendations finished on 74000/140198 queries. users per second: 250.271\n",
      "PROGRESS: recommendations finished on 75000/140198 queries. users per second: 250.261\n",
      "PROGRESS: recommendations finished on 76000/140198 queries. users per second: 250.257\n",
      "PROGRESS: recommendations finished on 77000/140198 queries. users per second: 250.234\n",
      "PROGRESS: recommendations finished on 78000/140198 queries. users per second: 250.231\n",
      "PROGRESS: recommendations finished on 79000/140198 queries. users per second: 250.216\n",
      "PROGRESS: recommendations finished on 80000/140198 queries. users per second: 250.209\n",
      "PROGRESS: recommendations finished on 81000/140198 queries. users per second: 250.2\n",
      "PROGRESS: recommendations finished on 82000/140198 queries. users per second: 250.192\n",
      "PROGRESS: recommendations finished on 83000/140198 queries. users per second: 250.181\n",
      "PROGRESS: recommendations finished on 84000/140198 queries. users per second: 250.182\n",
      "PROGRESS: recommendations finished on 85000/140198 queries. users per second: 250.168\n",
      "PROGRESS: recommendations finished on 86000/140198 queries. users per second: 250.158\n",
      "PROGRESS: recommendations finished on 87000/140198 queries. users per second: 250.14\n",
      "PROGRESS: recommendations finished on 88000/140198 queries. users per second: 250.127\n",
      "PROGRESS: recommendations finished on 89000/140198 queries. users per second: 250.121\n",
      "PROGRESS: recommendations finished on 90000/140198 queries. users per second: 250.115\n",
      "PROGRESS: recommendations finished on 91000/140198 queries. users per second: 250.102\n",
      "PROGRESS: recommendations finished on 92000/140198 queries. users per second: 250.097\n",
      "PROGRESS: recommendations finished on 93000/140198 queries. users per second: 250.074\n",
      "PROGRESS: recommendations finished on 94000/140198 queries. users per second: 250.076\n",
      "PROGRESS: recommendations finished on 95000/140198 queries. users per second: 250.085\n",
      "PROGRESS: recommendations finished on 96000/140198 queries. users per second: 250.082\n",
      "PROGRESS: recommendations finished on 97000/140198 queries. users per second: 250.079\n",
      "PROGRESS: recommendations finished on 98000/140198 queries. users per second: 250.08\n",
      "PROGRESS: recommendations finished on 99000/140198 queries. users per second: 250.081\n",
      "PROGRESS: recommendations finished on 100000/140198 queries. users per second: 250.066\n",
      "PROGRESS: recommendations finished on 101000/140198 queries. users per second: 250.057\n",
      "PROGRESS: recommendations finished on 102000/140198 queries. users per second: 250.068\n",
      "PROGRESS: recommendations finished on 103000/140198 queries. users per second: 250.065\n",
      "PROGRESS: recommendations finished on 104000/140198 queries. users per second: 250.066\n",
      "PROGRESS: recommendations finished on 105000/140198 queries. users per second: 250.068\n",
      "PROGRESS: recommendations finished on 106000/140198 queries. users per second: 250.066\n",
      "PROGRESS: recommendations finished on 107000/140198 queries. users per second: 250.06\n",
      "PROGRESS: recommendations finished on 108000/140198 queries. users per second: 250.067\n",
      "PROGRESS: recommendations finished on 109000/140198 queries. users per second: 250.066\n",
      "PROGRESS: recommendations finished on 110000/140198 queries. users per second: 250.061\n",
      "PROGRESS: recommendations finished on 111000/140198 queries. users per second: 250.049\n",
      "PROGRESS: recommendations finished on 112000/140198 queries. users per second: 250.043\n",
      "PROGRESS: recommendations finished on 113000/140198 queries. users per second: 250.04\n",
      "PROGRESS: recommendations finished on 114000/140198 queries. users per second: 250.033\n",
      "PROGRESS: recommendations finished on 115000/140198 queries. users per second: 250.031\n",
      "PROGRESS: recommendations finished on 116000/140198 queries. users per second: 250.031\n",
      "PROGRESS: recommendations finished on 117000/140198 queries. users per second: 250.027\n",
      "PROGRESS: recommendations finished on 118000/140198 queries. users per second: 250.025\n",
      "PROGRESS: recommendations finished on 119000/140198 queries. users per second: 250.025\n",
      "PROGRESS: recommendations finished on 120000/140198 queries. users per second: 250.024\n",
      "PROGRESS: recommendations finished on 121000/140198 queries. users per second: 250.013\n",
      "PROGRESS: recommendations finished on 122000/140198 queries. users per second: 250.008\n",
      "PROGRESS: recommendations finished on 123000/140198 queries. users per second: 249.985\n",
      "PROGRESS: recommendations finished on 124000/140198 queries. users per second: 249.987\n",
      "PROGRESS: recommendations finished on 125000/140198 queries. users per second: 249.995\n",
      "PROGRESS: recommendations finished on 126000/140198 queries. users per second: 249.987\n",
      "PROGRESS: recommendations finished on 127000/140198 queries. users per second: 249.99\n",
      "PROGRESS: recommendations finished on 128000/140198 queries. users per second: 249.989\n",
      "PROGRESS: recommendations finished on 129000/140198 queries. users per second: 249.989\n",
      "PROGRESS: recommendations finished on 130000/140198 queries. users per second: 249.989\n",
      "PROGRESS: recommendations finished on 131000/140198 queries. users per second: 249.995\n",
      "PROGRESS: recommendations finished on 132000/140198 queries. users per second: 250.003\n",
      "PROGRESS: recommendations finished on 133000/140198 queries. users per second: 250\n",
      "PROGRESS: recommendations finished on 134000/140198 queries. users per second: 249.994\n",
      "PROGRESS: recommendations finished on 135000/140198 queries. users per second: 249.993\n",
      "PROGRESS: recommendations finished on 136000/140198 queries. users per second: 249.996\n",
      "PROGRESS: recommendations finished on 137000/140198 queries. users per second: 249.992\n",
      "PROGRESS: recommendations finished on 138000/140198 queries. users per second: 249.997\n",
      "PROGRESS: recommendations finished on 139000/140198 queries. users per second: 249.999\n",
      "PROGRESS: recommendations finished on 140000/140198 queries. users per second: 249.999\n"
     ]
    }
   ],
   "source": [
    "plot = s.evaluate_precision_recall(rep_test, cutoffs = [2 , 5])"
   ]
  },
  {
   "cell_type": "code",
   "execution_count": 13,
   "metadata": {
    "collapsed": false
   },
   "outputs": [
    {
     "data": {
      "text/plain": [
       "{'precision_recall_by_user': Columns:\n",
       " \tuser_id\tint\n",
       " \tcutoff\tint\n",
       " \tprecision\tfloat\n",
       " \trecall\tfloat\n",
       " \tcount\tint\n",
       " \n",
       " Rows: 280396\n",
       " \n",
       " Data:\n",
       " +---------+--------+-----------+----------------+-------+\n",
       " | user_id | cutoff | precision |     recall     | count |\n",
       " +---------+--------+-----------+----------------+-------+\n",
       " |    0    |   2    |    1.0    | 0.142857142857 |   14  |\n",
       " |    0    |   5    |    1.0    | 0.357142857143 |   14  |\n",
       " |    1    |   2    |    0.0    |      0.0       |   6   |\n",
       " |    1    |   5    |    0.0    |      0.0       |   6   |\n",
       " |    2    |   2    |    0.0    |      0.0       |   1   |\n",
       " |    2    |   5    |    0.0    |      0.0       |   1   |\n",
       " |    3    |   2    |    0.0    |      0.0       |   2   |\n",
       " |    3    |   5    |    0.0    |      0.0       |   2   |\n",
       " |    4    |   2    |    1.0    | 0.133333333333 |   15  |\n",
       " |    4    |   5    |    0.6    |      0.2       |   15  |\n",
       " +---------+--------+-----------+----------------+-------+\n",
       " [280396 rows x 5 columns]\n",
       " Note: Only the head of the SFrame is printed.\n",
       " You can use print_rows(num_rows=m, num_columns=n) to print more rows and columns.,\n",
       " 'precision_recall_overall': Columns:\n",
       " \tcutoff\tint\n",
       " \tprecision\tfloat\n",
       " \trecall\tfloat\n",
       " \n",
       " Rows: 2\n",
       " \n",
       " Data:\n",
       " +--------+------------------+------------------+\n",
       " | cutoff |    precision     |      recall      |\n",
       " +--------+------------------+------------------+\n",
       " |   2    | 0.00487168147905 | 0.00420668773381 |\n",
       " |   5    | 0.00365340447082 | 0.00778742921479 |\n",
       " +--------+------------------+------------------+\n",
       " [2 rows x 3 columns]}"
      ]
     },
     "execution_count": 13,
     "metadata": {},
     "output_type": "execute_result"
    }
   ],
   "source": [
    "plot"
   ]
  },
  {
   "cell_type": "code",
   "execution_count": 14,
   "metadata": {
    "collapsed": false
   },
   "outputs": [
    {
     "name": "stdout",
     "output_type": "stream",
     "text": [
      "Canvas is updated and available in a tab in the default browser.\n"
     ]
    }
   ],
   "source": [
    "plot['precision_recall_overall'].show()"
   ]
  },
  {
   "cell_type": "code",
   "execution_count": null,
   "metadata": {
    "collapsed": true
   },
   "outputs": [],
   "source": []
  }
 ],
 "metadata": {
  "kernelspec": {
   "display_name": "Python 2",
   "language": "python",
   "name": "python2"
  },
  "language_info": {
   "codemirror_mode": {
    "name": "ipython",
    "version": 2
   },
   "file_extension": ".py",
   "mimetype": "text/x-python",
   "name": "python",
   "nbconvert_exporter": "python",
   "pygments_lexer": "ipython2",
   "version": "2.7.6"
  }
 },
 "nbformat": 4,
 "nbformat_minor": 0
}
