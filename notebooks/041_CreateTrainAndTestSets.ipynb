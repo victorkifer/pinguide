{
 "cells": [
  {
   "cell_type": "code",
   "execution_count": 1,
   "metadata": {
    "collapsed": false
   },
   "outputs": [
    {
     "name": "stdout",
     "output_type": "stream",
     "text": [
      "OK\n"
     ]
    }
   ],
   "source": [
    "from input_data import *\n",
    "\n",
    "import os\n",
    "\n",
    "def file_exists(file, log = True):\n",
    "    file_exists = os.path.exists(file)\n",
    "    if not file_exists and log:\n",
    "        print 'Input data not found:', file\n",
    "        \n",
    "    return file_exists\n",
    "\n",
    "def files_exist(list):\n",
    "    '''\n",
    "    Checks whether the input data exists by given path\n",
    "    '''\n",
    "    input_data_exists = True\n",
    "    for file in list:\n",
    "        if not file_exists(file):\n",
    "            input_data_exists = False\n",
    "\n",
    "    return input_data_exists\n",
    "\n",
    "def check_input_data_exists():\n",
    "    input_files = [INPUT_IMAGES, INPUT_PINS, INPUT_REPINS, INPUT_USERS]\n",
    "\n",
    "    return files_exist(input_files)\n",
    "\n",
    "if not check_input_data_exists():\n",
    "    exit(-1)\n",
    "    \n",
    "print \"OK\""
   ]
  },
  {
   "cell_type": "code",
   "execution_count": 2,
   "metadata": {
    "collapsed": true
   },
   "outputs": [],
   "source": [
    "import random\n",
    "import csv\n",
    "\n",
    "__TRAIN_SET_SIZE__ = 2. / 3."
   ]
  },
  {
   "cell_type": "code",
   "execution_count": 3,
   "metadata": {
    "collapsed": true
   },
   "outputs": [],
   "source": [
    "def time_split(full, train, test):\n",
    "    '''\n",
    "    Implements split of input set into train and test sets using time history arrangement\n",
    "\n",
    "    train_size = int (__TRAIN_SET_SIZE__ * len(full))\n",
    "    test_size = len(full) - train_size\n",
    "\n",
    "    NOTE: function assumes that records in input set are already sorted\n",
    "    '''\n",
    "    input_set_size = sum(1 for line in open(full))\n",
    "\n",
    "    train_set_size = int(input_set_size * __TRAIN_SET_SIZE__)\n",
    "\n",
    "    with open(full, 'rb') as in_file, open(train, 'wb+') as train_file, open(test, 'wb+') as test_file:\n",
    "        reader = csv.reader(in_file, delimiter='|')\n",
    "        train_writer = csv.writer(train_file, delimiter='|')\n",
    "        test_writer = csv.writer(test_file, delimiter='|')\n",
    "\n",
    "        index = 0\n",
    "        for row in reader:\n",
    "            index += 1\n",
    "            if index <= train_set_size:\n",
    "                train_writer.writerow(row)\n",
    "            else:\n",
    "                test_writer.writerow(row)"
   ]
  },
  {
   "cell_type": "code",
   "execution_count": 4,
   "metadata": {
    "collapsed": true
   },
   "outputs": [],
   "source": [
    "def random_split(full, train, test):\n",
    "    '''\n",
    "    Implements split of input set into train and test sets using random arrangement\n",
    "    train_size = int (__TRAIN_SET_SIZE__ * len(full))\n",
    "    test_size = len(full) - train_size\n",
    "    '''\n",
    "    with open(full, 'rb') as in_file, open(train, 'wb+') as train_file, open(test, 'wb+') as test_file:\n",
    "        reader = csv.reader(in_file, delimiter='|')\n",
    "        train_writer = csv.writer(train_file, delimiter='|')\n",
    "        test_writer = csv.writer(test_file, delimiter='|')\n",
    "\n",
    "        for row in reader:\n",
    "            if random.random() <= __TRAIN_SET_SIZE__:\n",
    "                train_writer.writerow(row)\n",
    "            else:\n",
    "                test_writer.writerow(row)"
   ]
  },
  {
   "cell_type": "code",
   "execution_count": 5,
   "metadata": {
    "collapsed": false
   },
   "outputs": [],
   "source": [
    "random_split(INPUT_REPINS, INPUT_TRAIN_FILE, INPUT_TEST_FILE)"
   ]
  },
  {
   "cell_type": "code",
   "execution_count": 6,
   "metadata": {
    "collapsed": true
   },
   "outputs": [],
   "source": [
    "random_split(INPUT_NEGATIVE_REPINS, INPUT_NEGATIVE_REPINS_TRAIN, INPUT_NEGATIVE_REPINS_TEST)"
   ]
  }
 ],
 "metadata": {
  "kernelspec": {
   "display_name": "Python 2",
   "language": "python",
   "name": "python2"
  },
  "language_info": {
   "codemirror_mode": {
    "name": "ipython",
    "version": 2
   },
   "file_extension": ".py",
   "mimetype": "text/x-python",
   "name": "python",
   "nbconvert_exporter": "python",
   "pygments_lexer": "ipython2",
   "version": "2.7.10"
  }
 },
 "nbformat": 4,
 "nbformat_minor": 0
}
