{
 "cells": [
  {
   "cell_type": "code",
   "execution_count": 38,
   "metadata": {
    "collapsed": true
   },
   "outputs": [],
   "source": [
    "from input_data import *\n",
    "\n",
    "import csv\n",
    "from random import random"
   ]
  },
  {
   "cell_type": "code",
   "execution_count": 12,
   "metadata": {
    "collapsed": true
   },
   "outputs": [],
   "source": [
    "def get_pin_ids():\n",
    "    with open(INPUT_PINS, 'rb') as f_pins:\n",
    "        reader = csv.reader(f_pins, delimiter='|')\n",
    "        return [int(row[0]) for row in reader]"
   ]
  },
  {
   "cell_type": "code",
   "execution_count": 15,
   "metadata": {
    "collapsed": false
   },
   "outputs": [
    {
     "name": "stdout",
     "output_type": "stream",
     "text": [
      "176072 pin ids loaded\n"
     ]
    }
   ],
   "source": [
    "pins = get_pin_ids()\n",
    "\n",
    "print len(pins), 'pin ids were loaded'"
   ]
  },
  {
   "cell_type": "code",
   "execution_count": 16,
   "metadata": {
    "collapsed": true
   },
   "outputs": [],
   "source": [
    "def get_user_ids():\n",
    "    with open(INPUT_USERS, 'rb') as f_users:\n",
    "        reader = csv.reader(f_users, delimiter='|')\n",
    "        return [int(row[0]) for row in reader]"
   ]
  },
  {
   "cell_type": "code",
   "execution_count": 17,
   "metadata": {
    "collapsed": false
   },
   "outputs": [
    {
     "name": "stdout",
     "output_type": "stream",
     "text": [
      "401241 user ids loaded\n"
     ]
    }
   ],
   "source": [
    "users = get_user_ids()\n",
    "\n",
    "print len(users), 'user ids were loaded'"
   ]
  },
  {
   "cell_type": "code",
   "execution_count": 19,
   "metadata": {
    "collapsed": false
   },
   "outputs": [],
   "source": [
    "def get_positive_repins():\n",
    "    repins = []\n",
    "    with open(INPUT_REPINS, 'rb') as f_repins:\n",
    "        reader = csv.reader(f_repins, delimiter='|')\n",
    "        for row in reader:\n",
    "            repin = [int(x) for x in row]\n",
    "            repins.append(repin)\n",
    "        return repins"
   ]
  },
  {
   "cell_type": "code",
   "execution_count": 20,
   "metadata": {
    "collapsed": false
   },
   "outputs": [
    {
     "name": "stdout",
     "output_type": "stream",
     "text": [
      "1105401 positive repins were loaded\n"
     ]
    }
   ],
   "source": [
    "pos_repins = get_positive_repins()\n",
    "\n",
    "print len(pos_repins), 'positive repins were loaded'"
   ]
  },
  {
   "cell_type": "code",
   "execution_count": 27,
   "metadata": {
    "collapsed": true
   },
   "outputs": [],
   "source": [
    "def get_all_categories():\n",
    "    with open('input/formats/category_id.txt', 'rb') as f_categories:\n",
    "        reader = csv.reader(f_categories, delimiter='|')\n",
    "        return [int(row[1]) for row in reader]"
   ]
  },
  {
   "cell_type": "code",
   "execution_count": 28,
   "metadata": {
    "collapsed": false
   },
   "outputs": [
    {
     "name": "stdout",
     "output_type": "stream",
     "text": [
      "32 categories were loaded\n"
     ]
    }
   ],
   "source": [
    "categories = get_all_categories()\n",
    "\n",
    "print len(categories), 'categories were loaded'"
   ]
  },
  {
   "cell_type": "code",
   "execution_count": 34,
   "metadata": {
    "collapsed": true
   },
   "outputs": [],
   "source": [
    "def generate_random_negative_repins(count):\n",
    "    neg_repins = []\n",
    "    while len(neg_repins) < count:\n",
    "        rand_user_id = users[int(random() * len(users))]\n",
    "        rand_pin_id = pins[int(random() * len(pins))]\n",
    "\n",
    "        repin_exists = False\n",
    "        for repin in pos_repins:\n",
    "            if repin[0] == rand_user_id and repin[1] == rand_pin_id:\n",
    "                repin_exists = True\n",
    "                break\n",
    "\n",
    "        if not repin_exists:\n",
    "            repin = []\n",
    "            repin.append(rand_user_id)\n",
    "            repin.append(rand_pin_id)\n",
    "            repin.append(categories[int(random() * (len(categories) - 1))])\n",
    "            repin.append(int(random() * 10000))\n",
    "\n",
    "            neg_repins.append(repin)\n",
    "    return neg_repins"
   ]
  },
  {
   "cell_type": "code",
   "execution_count": 35,
   "metadata": {
    "collapsed": false
   },
   "outputs": [
    {
     "name": "stdout",
     "output_type": "stream",
     "text": [
      "1000 negative repins were generated\n"
     ]
    }
   ],
   "source": [
    "neg_repins = generate_random_negative_repins(1000)\n",
    "\n",
    "print len(neg_repins), 'negative repins were generated'"
   ]
  },
  {
   "cell_type": "code",
   "execution_count": 36,
   "metadata": {
    "collapsed": true
   },
   "outputs": [],
   "source": [
    "def save_to_csv(data, filename):\n",
    "    with open(filename, 'wb+') as f:\n",
    "        writer = csv.writer(f, delimiter='|')\n",
    "        for row in data:\n",
    "            writer.writerow(row)"
   ]
  },
  {
   "cell_type": "code",
   "execution_count": 39,
   "metadata": {
    "collapsed": false
   },
   "outputs": [
    {
     "name": "stdout",
     "output_type": "stream",
     "text": [
      "OK\n"
     ]
    }
   ],
   "source": [
    "negative_repins_file = 'input/negative_repins.csv'\n",
    "\n",
    "save_to_csv(neg_repins, negative_repins_file)\n",
    "\n",
    "print \"OK\""
   ]
  },
  {
   "cell_type": "code",
   "execution_count": null,
   "metadata": {
    "collapsed": true
   },
   "outputs": [],
   "source": []
  }
 ],
 "metadata": {
  "kernelspec": {
   "display_name": "Python 2",
   "language": "python",
   "name": "python2"
  },
  "language_info": {
   "codemirror_mode": {
    "name": "ipython",
    "version": 2
   },
   "file_extension": ".py",
   "mimetype": "text/x-python",
   "name": "python",
   "nbconvert_exporter": "python",
   "pygments_lexer": "ipython2",
   "version": "2.7.10"
  }
 },
 "nbformat": 4,
 "nbformat_minor": 0
}
