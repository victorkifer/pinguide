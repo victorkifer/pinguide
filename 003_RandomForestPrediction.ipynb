{
 "cells": [
  {
   "cell_type": "code",
   "execution_count": 18,
   "metadata": {
    "collapsed": false
   },
   "outputs": [
    {
     "name": "stdout",
     "output_type": "stream",
     "text": [
      "\n"
     ]
    }
   ],
   "source": [
    "from input_data import *\n",
    "import csv\n",
    "from random import random\n",
    "from sklearn.ensemble import RandomForestClassifier"
   ]
  },
  {
   "cell_type": "code",
   "execution_count": 19,
   "metadata": {
    "collapsed": true
   },
   "outputs": [],
   "source": [
    "def get_users():\n",
    "    with open(INPUT_USERS, 'rb') as users:\n",
    "        reader = csv.reader(users, delimiter='|')\n",
    "        return [int(row[0]) for row in reader]"
   ]
  },
  {
   "cell_type": "code",
   "execution_count": 37,
   "metadata": {
    "collapsed": false
   },
   "outputs": [
    {
     "name": "stdout",
     "output_type": "stream",
     "text": [
      "\n"
     ]
    }
   ],
   "source": [
    "def get_repins(file):\n",
    "    repins = []\n",
    "    with open(file, 'rb') as repins_file:\n",
    "        reader = csv.reader(repins_file, delimiter='|')\n",
    "        for row in reader:\n",
    "            repins.append([int(x) for x in row])\n",
    "    return repins"
   ]
  },
  {
   "cell_type": "code",
   "execution_count": 20,
   "metadata": {
    "collapsed": true
   },
   "outputs": [],
   "source": [
    "def get_repins_for_user(user_id, file):\n",
    "    repins = []\n",
    "    with open(file, 'rb') as repins_file:\n",
    "        reader = csv.reader(repins_file, delimiter='|')\n",
    "        for row in reader:\n",
    "            if int(row[1]) == user_id:\n",
    "                repins.append([int(x) for x in row])\n",
    "    return repins"
   ]
  },
  {
   "cell_type": "code",
   "execution_count": 29,
   "metadata": {
    "collapsed": true
   },
   "outputs": [],
   "source": [
    "def get_pins_features_by_repins(repins):\n",
    "    pins_features = []\n",
    "    pin_ids = [repin[0] for repin in repins]\n",
    "    with open(INPUT_PINS, 'rb') as pins:\n",
    "        reader = csv.reader(pins, delimiter='|')\n",
    "        for row in reader:\n",
    "            if int(row[0]) in pin_ids:\n",
    "                features = [float(x) for x in row[1:1015]]\n",
    "                pins_features.append(features)\n",
    "    return pins_features"
   ]
  },
  {
   "cell_type": "code",
   "execution_count": 30,
   "metadata": {
    "collapsed": true
   },
   "outputs": [],
   "source": [
    "def get_pins_features_not_in_repins(repins):\n",
    "    pins_features = []\n",
    "    pin_ids = [repin[0] for repin in repins]\n",
    "    with open(INPUT_PINS, 'rb') as pins:\n",
    "        reader = csv.reader(pins, delimiter='|')\n",
    "        for row in reader:\n",
    "            if int(row[0]) not in pin_ids:\n",
    "                features = [float(x) for x in row[1:1015]]\n",
    "                pins_features.append(features)\n",
    "\n",
    "            if len(pins_features) > 500:\n",
    "                break\n",
    "\n",
    "    return pins_features"
   ]
  },
  {
   "cell_type": "code",
   "execution_count": 31,
   "metadata": {
    "collapsed": false
   },
   "outputs": [
    {
     "name": "stdout",
     "output_type": "stream",
     "text": [
      "OK\n"
     ]
    }
   ],
   "source": [
    "users = get_users()\n",
    "user_id = users[int(random() * len(users))]\n",
    "repins = get_repins_for_user(user_id, INPUT_TRAIN_FILE)\n",
    "\n",
    "x = get_pins_features_by_repins(repins)\n",
    "y = [1 for i in range(len(x))]\n",
    "\n",
    "repins = get_repins_for_user(user_id, INPUT_REPINS)\n",
    "x_n = get_pins_features_not_in_repins(repins)\n",
    "y_n = [0 for i in range(len(x_n))]\n",
    "\n",
    "x_all = x + x_n\n",
    "y_all = y + y_n\n",
    "\n",
    "print \"OK\""
   ]
  },
  {
   "cell_type": "code",
   "execution_count": 32,
   "metadata": {
    "collapsed": false
   },
   "outputs": [
    {
     "data": {
      "text/plain": [
       "RandomForestClassifier(bootstrap=True, class_weight=None, criterion='gini',\n",
       "            max_depth=None, max_features='auto', max_leaf_nodes=None,\n",
       "            min_samples_leaf=1, min_samples_split=2,\n",
       "            min_weight_fraction_leaf=0.0, n_estimators=10, n_jobs=4,\n",
       "            oob_score=False, random_state=None, verbose=0,\n",
       "            warm_start=False)"
      ]
     },
     "execution_count": 32,
     "metadata": {},
     "output_type": "execute_result"
    }
   ],
   "source": [
    "clf = RandomForestClassifier(n_estimators=10, n_jobs=4)\n",
    "clf.fit(x_all, y_all)"
   ]
  },
  {
   "cell_type": "code",
   "execution_count": 38,
   "metadata": {
    "collapsed": false
   },
   "outputs": [],
   "source": [
    "repins = get_repins(INPUT_TEST_FILE)\n",
    "if len(repins) == 0:\n",
    "    print \"No repins were found in test set for given user\"\n",
    "    exit(-1)"
   ]
  },
  {
   "cell_type": "code",
   "execution_count": 39,
   "metadata": {
    "collapsed": false
   },
   "outputs": [
    {
     "ename": "KeyboardInterrupt",
     "evalue": "",
     "output_type": "error",
     "traceback": [
      "\u001b[1;31m---------------------------------------------------------------------------\u001b[0m",
      "\u001b[1;31mKeyboardInterrupt\u001b[0m                         Traceback (most recent call last)",
      "\u001b[1;32m<ipython-input-39-0c7bdbb404b7>\u001b[0m in \u001b[0;36m<module>\u001b[1;34m()\u001b[0m\n\u001b[1;32m----> 1\u001b[1;33m \u001b[0mx_test\u001b[0m \u001b[1;33m=\u001b[0m \u001b[0mget_pins_features_by_repins\u001b[0m\u001b[1;33m(\u001b[0m\u001b[0mrepins\u001b[0m\u001b[1;33m)\u001b[0m\u001b[1;33m\u001b[0m\u001b[0m\n\u001b[0m\u001b[0;32m      2\u001b[0m \u001b[0mtotal\u001b[0m \u001b[1;33m=\u001b[0m \u001b[0mlen\u001b[0m\u001b[1;33m(\u001b[0m\u001b[0mx_test\u001b[0m\u001b[1;33m)\u001b[0m\u001b[1;33m\u001b[0m\u001b[0m\n\u001b[0;32m      3\u001b[0m \u001b[1;33m\u001b[0m\u001b[0m\n\u001b[0;32m      4\u001b[0m \u001b[1;32mif\u001b[0m \u001b[0mtotal\u001b[0m \u001b[1;33m==\u001b[0m \u001b[1;36m0\u001b[0m\u001b[1;33m:\u001b[0m\u001b[1;33m\u001b[0m\u001b[0m\n\u001b[0;32m      5\u001b[0m     \u001b[1;32mprint\u001b[0m \u001b[1;34m\"No pins were loaded based on test set\"\u001b[0m\u001b[1;33m\u001b[0m\u001b[0m\n",
      "\u001b[1;32m<ipython-input-29-ff5a4c5929b1>\u001b[0m in \u001b[0;36mget_pins_features_by_repins\u001b[1;34m(repins)\u001b[0m\n\u001b[0;32m      6\u001b[0m         \u001b[1;32mfor\u001b[0m \u001b[0mrow\u001b[0m \u001b[1;32min\u001b[0m \u001b[0mreader\u001b[0m\u001b[1;33m:\u001b[0m\u001b[1;33m\u001b[0m\u001b[0m\n\u001b[0;32m      7\u001b[0m             \u001b[1;32mif\u001b[0m \u001b[0mint\u001b[0m\u001b[1;33m(\u001b[0m\u001b[0mrow\u001b[0m\u001b[1;33m[\u001b[0m\u001b[1;36m0\u001b[0m\u001b[1;33m]\u001b[0m\u001b[1;33m)\u001b[0m \u001b[1;32min\u001b[0m \u001b[0mpin_ids\u001b[0m\u001b[1;33m:\u001b[0m\u001b[1;33m\u001b[0m\u001b[0m\n\u001b[1;32m----> 8\u001b[1;33m                 \u001b[0mfeatures\u001b[0m \u001b[1;33m=\u001b[0m \u001b[1;33m[\u001b[0m\u001b[0mfloat\u001b[0m\u001b[1;33m(\u001b[0m\u001b[0mx\u001b[0m\u001b[1;33m)\u001b[0m \u001b[1;32mfor\u001b[0m \u001b[0mx\u001b[0m \u001b[1;32min\u001b[0m \u001b[0mrow\u001b[0m\u001b[1;33m[\u001b[0m\u001b[1;36m1\u001b[0m\u001b[1;33m:\u001b[0m\u001b[1;36m1015\u001b[0m\u001b[1;33m]\u001b[0m\u001b[1;33m]\u001b[0m\u001b[1;33m\u001b[0m\u001b[0m\n\u001b[0m\u001b[0;32m      9\u001b[0m                 \u001b[0mpins_features\u001b[0m\u001b[1;33m.\u001b[0m\u001b[0mappend\u001b[0m\u001b[1;33m(\u001b[0m\u001b[0mfeatures\u001b[0m\u001b[1;33m)\u001b[0m\u001b[1;33m\u001b[0m\u001b[0m\n\u001b[0;32m     10\u001b[0m     \u001b[1;32mreturn\u001b[0m \u001b[0mpins_features\u001b[0m\u001b[1;33m\u001b[0m\u001b[0m\n",
      "\u001b[1;31mKeyboardInterrupt\u001b[0m: "
     ]
    }
   ],
   "source": [
    "x_test = get_pins_features_by_repins(repins)\n",
    "total = len(x_test)\n",
    "\n",
    "if total == 0:\n",
    "    print \"No pins were loaded based on test set\"\n",
    "    exit(-2)"
   ]
  },
  {
   "cell_type": "code",
   "execution_count": null,
   "metadata": {
    "collapsed": true
   },
   "outputs": [],
   "source": [
    "count = 0\n",
    "for x_hat in x_test:\n",
    "    y_hat = clf.predict(x_hat)\n",
    "    \n",
    "    if y_hat == 1:\n",
    "        count += 1\n",
    "\n",
    "print 'Precision =', count * 1. / total"
   ]
  },
  {
   "cell_type": "code",
   "execution_count": null,
   "metadata": {
    "collapsed": true
   },
   "outputs": [],
   "source": []
  }
 ],
 "metadata": {
  "kernelspec": {
   "display_name": "Python 2",
   "language": "python",
   "name": "python2"
  },
  "language_info": {
   "codemirror_mode": {
    "name": "ipython",
    "version": 2
   },
   "file_extension": ".py",
   "mimetype": "text/x-python",
   "name": "python",
   "nbconvert_exporter": "python",
   "pygments_lexer": "ipython2",
   "version": "2.7.10"
  }
 },
 "nbformat": 4,
 "nbformat_minor": 0
}
