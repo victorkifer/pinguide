{
 "cells": [
  {
   "cell_type": "code",
   "execution_count": 20,
   "metadata": {
    "collapsed": false
   },
   "outputs": [],
   "source": [
    "from input_data import *\n",
    "import csv\n",
    "from random import random\n",
    "from sklearn.ensemble import RandomForestClassifier"
   ]
  },
  {
   "cell_type": "code",
   "execution_count": 21,
   "metadata": {
    "collapsed": true
   },
   "outputs": [],
   "source": [
    "def get_user_ids():\n",
    "    '''\n",
    "    Returns user ids from input data\n",
    "    '''\n",
    "    with open(INPUT_USERS, 'rb') as users:\n",
    "        reader = csv.reader(users, delimiter='|')\n",
    "        return [int(row[0]) for row in reader]"
   ]
  },
  {
   "cell_type": "code",
   "execution_count": 44,
   "metadata": {
    "collapsed": false
   },
   "outputs": [],
   "source": [
    "def get_repins(file):\n",
    "    '''\n",
    "    Returns all repins from given file\n",
    "    '''\n",
    "    repins = []\n",
    "    with open(file, 'rb') as repins_file:\n",
    "        reader = csv.reader(repins_file, delimiter='|')\n",
    "        for row in reader:\n",
    "            repins.append([int(x) for x in row])\n",
    "    return repins"
   ]
  },
  {
   "cell_type": "code",
   "execution_count": 45,
   "metadata": {
    "collapsed": true
   },
   "outputs": [],
   "source": [
    "def get_repins_for_user(user_id, file):\n",
    "    '''\n",
    "    Returns repins of given user loaded from given file\n",
    "    '''\n",
    "    repins = []\n",
    "    with open(file, 'rb') as repins_file:\n",
    "        reader = csv.reader(repins_file, delimiter='|')\n",
    "        for row in reader:\n",
    "            if int(row[0]) == user_id:\n",
    "                repins.append([int(x) for x in row])\n",
    "    return repins"
   ]
  },
  {
   "cell_type": "code",
   "execution_count": 46,
   "metadata": {
    "collapsed": true
   },
   "outputs": [],
   "source": [
    "def get_pin_features_by_repins(repins):\n",
    "    '''\n",
    "    Returns quality and object features of pins,\n",
    "    selected from repins (repin.anon_pin_id)\n",
    "    '''\n",
    "    pins_features = []\n",
    "    pin_ids = [repin[1] for repin in repins]\n",
    "    with open(INPUT_PINS, 'rb') as pins:\n",
    "        reader = csv.reader(pins, delimiter='|')\n",
    "        for row in reader:\n",
    "            if int(row[0]) in pin_ids:\n",
    "                features = [float(x) for x in row[1:1015]]\n",
    "                pins_features.append(features)\n",
    "    return pins_features"
   ]
  },
  {
   "cell_type": "code",
   "execution_count": 47,
   "metadata": {
    "collapsed": true
   },
   "outputs": [],
   "source": [
    "def get_pin_features_not_in_repins(repins):\n",
    "    pins_features = []\n",
    "    pin_ids = [repin[1] for repin in repins]\n",
    "    with open(INPUT_PINS, 'rb') as pins:\n",
    "        reader = csv.reader(pins, delimiter='|')\n",
    "        for row in reader:\n",
    "            if int(row[0]) not in pin_ids:\n",
    "                features = [float(x) for x in row[1:1015]]\n",
    "                pins_features.append(features)\n",
    "\n",
    "            if len(pins_features) > 500:\n",
    "                break\n",
    "\n",
    "    return pins_features"
   ]
  },
  {
   "cell_type": "code",
   "execution_count": 40,
   "metadata": {
    "collapsed": true
   },
   "outputs": [],
   "source": [
    "users = get_user_ids()\n",
    "user_id = users[int(random() * len(users))]"
   ]
  },
  {
   "cell_type": "code",
   "execution_count": 48,
   "metadata": {
    "collapsed": false
   },
   "outputs": [
    {
     "name": "stdout",
     "output_type": "stream",
     "text": [
      "OK\n"
     ]
    }
   ],
   "source": [
    "repins = get_repins_for_user(user_id, INPUT_TRAIN_FILE)\n",
    "\n",
    "x = get_pin_features_by_repins(repins)\n",
    "y = [1 for i in range(len(x))]\n",
    "\n",
    "repins = get_repins_for_user(user_id, INPUT_REPINS)\n",
    "x_n = get_pin_features_not_in_repins(repins)\n",
    "y_n = [0 for i in range(len(x_n))]\n",
    "\n",
    "x_all = x + x_n\n",
    "y_all = y + y_n\n",
    "\n",
    "print \"OK\""
   ]
  },
  {
   "cell_type": "code",
   "execution_count": 49,
   "metadata": {
    "collapsed": false
   },
   "outputs": [
    {
     "data": {
      "text/plain": [
       "RandomForestClassifier(bootstrap=True, class_weight=None, criterion='gini',\n",
       "            max_depth=None, max_features='auto', max_leaf_nodes=None,\n",
       "            min_samples_leaf=1, min_samples_split=2,\n",
       "            min_weight_fraction_leaf=0.0, n_estimators=10, n_jobs=4,\n",
       "            oob_score=False, random_state=None, verbose=0,\n",
       "            warm_start=False)"
      ]
     },
     "execution_count": 49,
     "metadata": {},
     "output_type": "execute_result"
    }
   ],
   "source": [
    "clf = RandomForestClassifier(n_estimators=10, n_jobs=4)\n",
    "clf.fit(x_all, y_all)"
   ]
  },
  {
   "cell_type": "code",
   "execution_count": 50,
   "metadata": {
    "collapsed": false
   },
   "outputs": [
    {
     "name": "stdout",
     "output_type": "stream",
     "text": [
      "3 repins were loaded from test set\n"
     ]
    }
   ],
   "source": [
    "repins = get_repins_for_user(user_id, INPUT_TEST_FILE)\n",
    "if len(repins) == 0:\n",
    "    print \"No repins were found in test set for given user\"\n",
    "    exit(-1)\n",
    "    \n",
    "print len(repins), 'repins were loaded from test set'"
   ]
  },
  {
   "cell_type": "code",
   "execution_count": 51,
   "metadata": {
    "collapsed": false
   },
   "outputs": [
    {
     "name": "stdout",
     "output_type": "stream",
     "text": [
      "2 pins were loaded based on repins from test set\n"
     ]
    }
   ],
   "source": [
    "x_test = get_pin_features_by_repins(repins)\n",
    "total = len(x_test)\n",
    "\n",
    "if total == 0:\n",
    "    print \"No pins were loaded based on test set\"\n",
    "    exit(-2)\n",
    "    \n",
    "print total, 'pins were loaded based on repins from test set'"
   ]
  },
  {
   "cell_type": "code",
   "execution_count": 52,
   "metadata": {
    "collapsed": false
   },
   "outputs": [
    {
     "name": "stdout",
     "output_type": "stream",
     "text": [
      "Precision = 0.5\n"
     ]
    }
   ],
   "source": [
    "count = 0\n",
    "for x_hat in x_test:\n",
    "    y_hat = clf.predict(x_hat)\n",
    "    \n",
    "    if y_hat == 1:\n",
    "        count += 1\n",
    "\n",
    "print 'Precision =', count * 1. / total"
   ]
  },
  {
   "cell_type": "code",
   "execution_count": null,
   "metadata": {
    "collapsed": true
   },
   "outputs": [],
   "source": []
  }
 ],
 "metadata": {
  "kernelspec": {
   "display_name": "Python 2",
   "language": "python",
   "name": "python2"
  },
  "language_info": {
   "codemirror_mode": {
    "name": "ipython",
    "version": 2
   },
   "file_extension": ".py",
   "mimetype": "text/x-python",
   "name": "python",
   "nbconvert_exporter": "python",
   "pygments_lexer": "ipython2",
   "version": "2.7.10"
  }
 },
 "nbformat": 4,
 "nbformat_minor": 0
}
