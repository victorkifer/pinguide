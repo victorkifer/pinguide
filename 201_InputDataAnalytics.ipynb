{
 "cells": [
  {
   "cell_type": "code",
   "execution_count": null,
   "metadata": {
    "collapsed": true
   },
   "outputs": [],
   "source": [
    "from __future__ import division\n",
    "%pylab inline"
   ]
  },
  {
   "cell_type": "code",
   "execution_count": 3,
   "metadata": {
    "collapsed": false
   },
   "outputs": [
    {
     "name": "stdout",
     "output_type": "stream",
     "text": [
      "Minimum number of repins 1\n",
      "Maximum number of repins 95\n",
      "Average number of repins per user 6.27840444384\n"
     ]
    }
   ],
   "source": [
    "from input_data import *\n",
    "import csv\n",
    "\n",
    "repins_map = {}\n",
    "\n",
    "total_repins = 0\n",
    "total_users = None\n",
    "with open(INPUT_REPINS, 'rb') as repins_file:\n",
    "    reader = csv.reader(repins_file, delimiter='|')\n",
    "    \n",
    "    for row in reader:\n",
    "        total_repins += 1\n",
    "        \n",
    "        user_id = int(row[0])\n",
    "        pin_id = int(row[1])\n",
    "        \n",
    "        if user_id in repins_map:\n",
    "            repins_map[user_id] += 1\n",
    "        else:\n",
    "            repins_map[user_id] = 1\n",
    "\n",
    "total_users = len(repins_map)\n",
    "\n",
    "items = repins_map.items()\n",
    "min_no_of_repins = min(items, key=lambda x: x[1])[1]\n",
    "max_no_of_repins = max(items, key=lambda x: x[1])[1]\n",
    "\n",
    "print 'Minimum number of repins', min_no_of_repins\n",
    "print 'Maximum number of repins', max_no_of_repins\n",
    "print 'Average number of repins per user', total_repins / total_users"
   ]
  },
  {
   "cell_type": "code",
   "execution_count": 15,
   "metadata": {
    "collapsed": false,
    "scrolled": true
   },
   "outputs": [
    {
     "name": "stdout",
     "output_type": "stream",
     "text": [
      "No of intervals: 21\n",
      "Interval size: 4.47619047619\n"
     ]
    },
    {
     "data": {
      "text/plain": [
       "[<matplotlib.lines.Line2D at 0x7f9e31072b90>]"
      ]
     },
     "execution_count": 15,
     "metadata": {},
     "output_type": "execute_result"
    },
    {
     "data": {
      "image/png": "[encoded data removed]",
      "text/plain": [
       "<matplotlib.figure.Figure at 0x7f9e3124c690>"
      ]
     },
     "metadata": {},
     "output_type": "display_data"
    }
   ],
   "source": [
    "import matplotlib.pyplot as plt\n",
    "import math\n",
    "\n",
    "no_of_intervals =int(1 + 3.322 * math.log10(total_repins))\n",
    "print 'No of intervals:', no_of_intervals\n",
    "interval_size = (max_no_of_repins - min_no_of_repins) * 1. / no_of_intervals\n",
    "print 'Interval size:', interval_size\n",
    "\n",
    "distribution = []\n",
    "for i in range(no_of_intervals):\n",
    "    interval_start = min_no_of_repins + i * interval_size\n",
    "    interval_end = interval_start + interval_size\n",
    "    \n",
    "    count = sum([1 for x in repins_map.values() if x >= interval_start and x < interval_end])\n",
    "    interval_middle = (interval_start + interval_end) / 2\n",
    "    item = (interval_middle, count)\n",
    "\n",
    "    distribution.append(item)\n",
    "\n",
    "x = [z[0] for z in distribution]\n",
    "y = [z[1] for z in distribution]\n",
    "plt.plot(x, y)"
   ]
  },
  {
   "cell_type": "code",
   "execution_count": null,
   "metadata": {
    "collapsed": true
   },
   "outputs": [],
   "source": []
  }
 ],
 "metadata": {
  "kernelspec": {
   "display_name": "Python 2",
   "language": "python",
   "name": "python2"
  },
  "language_info": {
   "codemirror_mode": {
    "name": "ipython",
    "version": 2
   },
   "file_extension": ".py",
   "mimetype": "text/x-python",
   "name": "python",
   "nbconvert_exporter": "python",
   "pygments_lexer": "ipython2",
   "version": "2.7.10"
  }
 },
 "nbformat": 4,
 "nbformat_minor": 0
}
