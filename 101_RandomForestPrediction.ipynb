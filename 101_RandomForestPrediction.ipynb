{
 "cells": [
  {
   "cell_type": "code",
   "execution_count": 1,
   "metadata": {
    "collapsed": false
   },
   "outputs": [],
   "source": [
    "from input_data import *\n",
    "import csv\n",
    "from random import random\n",
    "from sklearn.ensemble import RandomForestClassifier"
   ]
  },
  {
   "cell_type": "code",
   "execution_count": 2,
   "metadata": {
    "collapsed": true
   },
   "outputs": [],
   "source": [
    "def get_pins_map(file):\n",
    "    '''\n",
    "    Returns pins map\n",
    "    key = pin_id\n",
    "    value = pin_features\n",
    "    '''\n",
    "    pins = {}\n",
    "    with open(file, 'rb') as f_pins:\n",
    "        reader = csv.reader(f_pins, delimiter='|')\n",
    "        for row in reader:\n",
    "            pins[int(row[0])] = [float(x) for x in row[1:1015]]\n",
    "    return pins"
   ]
  },
  {
   "cell_type": "code",
   "execution_count": 3,
   "metadata": {
    "collapsed": true
   },
   "outputs": [],
   "source": [
    "def get_users_map(file):\n",
    "    '''\n",
    "    Returns users map\n",
    "    key = user_id\n",
    "    value = user_features\n",
    "    '''\n",
    "    users = {}\n",
    "    with open(file, 'rb') as f_users:\n",
    "        reader = csv.reader(f_users, delimiter='|')\n",
    "        for row in reader:\n",
    "            users[int(row[0])] = [float(x) for x in row[1:]]\n",
    "    return users"
   ]
  },
  {
   "cell_type": "code",
   "execution_count": 4,
   "metadata": {
    "collapsed": false
   },
   "outputs": [],
   "source": [
    "def get_repins(file):\n",
    "    '''\n",
    "    Returns all repins from given file\n",
    "    Repin is represented as a tuple (user_id, pin_id)    \n",
    "    '''\n",
    "    repins = []\n",
    "    with open(file, 'rb') as repins_file:\n",
    "        reader = csv.reader(repins_file, delimiter='|')\n",
    "        for row in reader:\n",
    "            repins.append((int(row[0]), int(row[1])))\n",
    "    return repins"
   ]
  },
  {
   "cell_type": "code",
   "execution_count": 5,
   "metadata": {
    "collapsed": true
   },
   "outputs": [],
   "source": [
    "pos_repins = get_repins(INPUT_REPINS)\n",
    "neg_repins = get_repins(INPUT_NEGATIVE_REPINS_TRAIN)"
   ]
  },
  {
   "cell_type": "code",
   "execution_count": 6,
   "metadata": {
    "collapsed": true
   },
   "outputs": [],
   "source": [
    "m_pins = get_pins_map(INPUT_PINS)"
   ]
  },
  {
   "cell_type": "code",
   "execution_count": 7,
   "metadata": {
    "collapsed": false
   },
   "outputs": [],
   "source": [
    "m_users = get_users_map(INPUT_USERS)"
   ]
  },
  {
   "cell_type": "code",
   "execution_count": 8,
   "metadata": {
    "collapsed": true
   },
   "outputs": [],
   "source": [
    "x = []\n",
    "y = []\n",
    "\n",
    "for repin in pos_repins:\n",
    "    if repin[0] not in m_users:\n",
    "        continue\n",
    "    if repin[1] not in m_pins:\n",
    "        continue\n",
    "        \n",
    "    user_feature = m_users[repin[0]]\n",
    "    pin_feature = m_pins[repin[1]]\n",
    "    \n",
    "    x.append(user_feature + pin_feature)\n",
    "    y.append(1)\n",
    "\n",
    "for repin in neg_repins:\n",
    "    if repin[0] not in m_users:\n",
    "        continue\n",
    "    if repin[1] not in m_pins:\n",
    "        continue\n",
    "        \n",
    "    user_feature = m_users[repin[0]]\n",
    "    pin_feature = m_pins[repin[1]]\n",
    "    \n",
    "    x.append(user_feature + pin_feature)\n",
    "    y.append(0)"
   ]
  },
  {
   "cell_type": "code",
   "execution_count": 9,
   "metadata": {
    "collapsed": false
   },
   "outputs": [
    {
     "data": {
      "text/plain": [
       "RandomForestClassifier(bootstrap=True, class_weight=None, criterion='gini',\n",
       "            max_depth=None, max_features='auto', max_leaf_nodes=None,\n",
       "            min_samples_leaf=1, min_samples_split=2,\n",
       "            min_weight_fraction_leaf=0.0, n_estimators=10, n_jobs=4,\n",
       "            oob_score=False, random_state=None, verbose=0,\n",
       "            warm_start=False)"
      ]
     },
     "execution_count": 9,
     "metadata": {},
     "output_type": "execute_result"
    }
   ],
   "source": [
    "clf = RandomForestClassifier(n_estimators=10, n_jobs=4)\n",
    "clf.fit(x, y)"
   ]
  },
  {
   "cell_type": "code",
   "execution_count": 11,
   "metadata": {
    "collapsed": false
   },
   "outputs": [
    {
     "name": "stdout",
     "output_type": "stream",
     "text": [
      "27123 positive repins were loaded from test set\n",
      "27066 negative repins were loaded from test set\n"
     ]
    }
   ],
   "source": [
    "pos_repins = get_repins(INPUT_TEST_FILE)\n",
    "print len(pos_repins), 'positive repins were loaded from test set'\n",
    "\n",
    "neg_repins = get_repins(INPUT_NEGATIVE_REPINS_TEST)\n",
    "print len(neg_repins), 'negative repins were loaded from test set'"
   ]
  },
  {
   "cell_type": "code",
   "execution_count": 13,
   "metadata": {
    "collapsed": false
   },
   "outputs": [
    {
     "name": "stdout",
     "output_type": "stream",
     "text": [
      "Precision = 0.784\n"
     ]
    }
   ],
   "source": [
    "count = 0\n",
    "total = 0\n",
    "for repin in pos_repins:\n",
    "    if repin[0] not in m_users:\n",
    "        continue\n",
    "    if repin[1] not in m_pins:\n",
    "        continue\n",
    "    \n",
    "    total += 1\n",
    "    user_feature = m_users[repin[0]]\n",
    "    pin_feature = m_pins[repin[1]]\n",
    "    \n",
    "    x_hat = user_feature + pin_feature\n",
    "    y_hat = clf.predict(x_hat)\n",
    "    \n",
    "    if y_hat == 1:\n",
    "        count += 1\n",
    "        \n",
    "    if total == 1000:\n",
    "        break\n",
    "        \n",
    "for repin in neg_repins:\n",
    "    if repin[0] not in m_users:\n",
    "        continue\n",
    "    if repin[1] not in m_pins:\n",
    "        continue\n",
    "    \n",
    "    total += 1\n",
    "    user_feature = m_users[repin[0]]\n",
    "    pin_feature = m_pins[repin[1]]\n",
    "    \n",
    "    x_hat = user_feature + pin_feature\n",
    "    y_hat = clf.predict(x_hat)\n",
    "    \n",
    "    if y_hat == 0:\n",
    "        count += 1\n",
    "        \n",
    "    if total == 2000:\n",
    "        break\n",
    "\n",
    "print 'Precision =', count * 1. / total"
   ]
  },
  {
   "cell_type": "code",
   "execution_count": null,
   "metadata": {
    "collapsed": true
   },
   "outputs": [],
   "source": []
  }
 ],
 "metadata": {
  "kernelspec": {
   "display_name": "Python 2",
   "language": "python",
   "name": "python2"
  },
  "language_info": {
   "codemirror_mode": {
    "name": "ipython",
    "version": 2
   },
   "file_extension": ".py",
   "mimetype": "text/x-python",
   "name": "python",
   "nbconvert_exporter": "python",
   "pygments_lexer": "ipython2",
   "version": "2.7.10"
  }
 },
 "nbformat": 4,
 "nbformat_minor": 0
}
